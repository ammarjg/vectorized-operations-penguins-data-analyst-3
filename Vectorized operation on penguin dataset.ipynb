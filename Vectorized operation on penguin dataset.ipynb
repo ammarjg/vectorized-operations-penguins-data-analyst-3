{
 "cells": [
  {
   "cell_type": "code",
   "execution_count": 1,
   "id": "0fef6299-8065-4647-98e5-9fb0110d30a8",
   "metadata": {},
   "outputs": [],
   "source": [
    "import pandas as pd"
   ]
  },
  {
   "cell_type": "code",
   "execution_count": 3,
   "id": "adf7d426-c8e6-4cca-b6e6-2b49ee9badd9",
   "metadata": {},
   "outputs": [],
   "source": [
    "df = pd.read_csv('penguins.csv')"
   ]
  },
  {
   "cell_type": "code",
   "execution_count": 5,
   "id": "b55e6771-dd85-42bc-a9bb-f35dc4d7a02c",
   "metadata": {},
   "outputs": [
    {
     "data": {
      "text/html": [
       "<div>\n",
       "<style scoped>\n",
       "    .dataframe tbody tr th:only-of-type {\n",
       "        vertical-align: middle;\n",
       "    }\n",
       "\n",
       "    .dataframe tbody tr th {\n",
       "        vertical-align: top;\n",
       "    }\n",
       "\n",
       "    .dataframe thead th {\n",
       "        text-align: right;\n",
       "    }\n",
       "</style>\n",
       "<table border=\"1\" class=\"dataframe\">\n",
       "  <thead>\n",
       "    <tr style=\"text-align: right;\">\n",
       "      <th></th>\n",
       "      <th>rownames</th>\n",
       "      <th>species</th>\n",
       "      <th>island</th>\n",
       "      <th>bill_length_mm</th>\n",
       "      <th>bill_depth_mm</th>\n",
       "      <th>flipper_length_mm</th>\n",
       "      <th>body_mass_g</th>\n",
       "      <th>sex</th>\n",
       "      <th>year</th>\n",
       "    </tr>\n",
       "  </thead>\n",
       "  <tbody>\n",
       "    <tr>\n",
       "      <th>0</th>\n",
       "      <td>1</td>\n",
       "      <td>Adelie</td>\n",
       "      <td>Torgersen</td>\n",
       "      <td>39.1</td>\n",
       "      <td>18.7</td>\n",
       "      <td>181.0</td>\n",
       "      <td>3750.0</td>\n",
       "      <td>male</td>\n",
       "      <td>2007</td>\n",
       "    </tr>\n",
       "    <tr>\n",
       "      <th>1</th>\n",
       "      <td>2</td>\n",
       "      <td>Adelie</td>\n",
       "      <td>Torgersen</td>\n",
       "      <td>39.5</td>\n",
       "      <td>17.4</td>\n",
       "      <td>186.0</td>\n",
       "      <td>3800.0</td>\n",
       "      <td>female</td>\n",
       "      <td>2007</td>\n",
       "    </tr>\n",
       "    <tr>\n",
       "      <th>2</th>\n",
       "      <td>3</td>\n",
       "      <td>Adelie</td>\n",
       "      <td>Torgersen</td>\n",
       "      <td>40.3</td>\n",
       "      <td>18.0</td>\n",
       "      <td>195.0</td>\n",
       "      <td>3250.0</td>\n",
       "      <td>female</td>\n",
       "      <td>2007</td>\n",
       "    </tr>\n",
       "    <tr>\n",
       "      <th>3</th>\n",
       "      <td>4</td>\n",
       "      <td>Adelie</td>\n",
       "      <td>Torgersen</td>\n",
       "      <td>NaN</td>\n",
       "      <td>NaN</td>\n",
       "      <td>NaN</td>\n",
       "      <td>NaN</td>\n",
       "      <td>NaN</td>\n",
       "      <td>2007</td>\n",
       "    </tr>\n",
       "    <tr>\n",
       "      <th>4</th>\n",
       "      <td>5</td>\n",
       "      <td>Adelie</td>\n",
       "      <td>Torgersen</td>\n",
       "      <td>36.7</td>\n",
       "      <td>19.3</td>\n",
       "      <td>193.0</td>\n",
       "      <td>3450.0</td>\n",
       "      <td>female</td>\n",
       "      <td>2007</td>\n",
       "    </tr>\n",
       "  </tbody>\n",
       "</table>\n",
       "</div>"
      ],
      "text/plain": [
       "   rownames species     island  bill_length_mm  bill_depth_mm  \\\n",
       "0         1  Adelie  Torgersen            39.1           18.7   \n",
       "1         2  Adelie  Torgersen            39.5           17.4   \n",
       "2         3  Adelie  Torgersen            40.3           18.0   \n",
       "3         4  Adelie  Torgersen             NaN            NaN   \n",
       "4         5  Adelie  Torgersen            36.7           19.3   \n",
       "\n",
       "   flipper_length_mm  body_mass_g     sex  year  \n",
       "0              181.0       3750.0    male  2007  \n",
       "1              186.0       3800.0  female  2007  \n",
       "2              195.0       3250.0  female  2007  \n",
       "3                NaN          NaN     NaN  2007  \n",
       "4              193.0       3450.0  female  2007  "
      ]
     },
     "execution_count": 5,
     "metadata": {},
     "output_type": "execute_result"
    }
   ],
   "source": [
    "df.head()"
   ]
  },
  {
   "cell_type": "markdown",
   "id": "f0566a91-6f87-4fda-bc20-f7da9c95562a",
   "metadata": {},
   "source": [
    "##### Add a constant value of 50 to the flipper_length_mm series\n",
    "Create a new series called `flipper_length_mm_plus_50` by adding 50 to the `flipper_length_mm` series."
   ]
  },
  {
   "cell_type": "code",
   "execution_count": 8,
   "id": "62f7d47a-3d9f-46c9-98d4-7a4eef15730c",
   "metadata": {},
   "outputs": [
    {
     "data": {
      "text/plain": [
       "0      231.0\n",
       "1      236.0\n",
       "2      245.0\n",
       "3        NaN\n",
       "4      243.0\n",
       "       ...  \n",
       "339    257.0\n",
       "340    252.0\n",
       "341    243.0\n",
       "342    260.0\n",
       "343    248.0\n",
       "Name: flipper_length_mm, Length: 344, dtype: float64"
      ]
     },
     "execution_count": 8,
     "metadata": {},
     "output_type": "execute_result"
    }
   ],
   "source": [
    "flipper_length_mm_plus_50 = df['flipper_length_mm'] + 50\n",
    "flipper_length_mm_plus_50"
   ]
  },
  {
   "cell_type": "markdown",
   "id": "71c9b7fc-abc1-4b32-bd70-d8a3023e524b",
   "metadata": {},
   "source": [
    "##### Calculate the difference between body_mass_g and the mean body mass\n",
    "\n",
    "Find the mean of `body_mass_g` and subtract it from each value in the series. Assign the result to a new series called `body_mass_mean_centered`"
   ]
  },
  {
   "cell_type": "code",
   "execution_count": 14,
   "id": "0981a215-c577-42ad-8bf2-2d66118383ff",
   "metadata": {},
   "outputs": [
    {
     "data": {
      "text/plain": [
       "0     -451.754386\n",
       "1     -401.754386\n",
       "2     -951.754386\n",
       "3             NaN\n",
       "4     -751.754386\n",
       "          ...    \n",
       "339   -201.754386\n",
       "340   -801.754386\n",
       "341   -426.754386\n",
       "342   -101.754386\n",
       "343   -426.754386\n",
       "Name: body_mass_g, Length: 344, dtype: float64"
      ]
     },
     "execution_count": 14,
     "metadata": {},
     "output_type": "execute_result"
    }
   ],
   "source": [
    "body_mass_mean_centered = df['body_mass_g'] - df['body_mass_g'].mean()\n",
    "body_mass_mean_centered"
   ]
  },
  {
   "cell_type": "markdown",
   "id": "db85f3f0-ca0b-421b-b32a-887c02a6ed9d",
   "metadata": {},
   "source": [
    "##### Multiply bill_depth_mm by 3\n",
    "\n",
    "Create a new series called `triple_bill_depth_mm` by multiplying the `bill_depth_mm` series by 3."
   ]
  },
  {
   "cell_type": "code",
   "execution_count": 15,
   "id": "a01751b7-30dc-4b4d-abf4-a23424bcea31",
   "metadata": {},
   "outputs": [
    {
     "data": {
      "text/plain": [
       "0      56.1\n",
       "1      52.2\n",
       "2      54.0\n",
       "3       NaN\n",
       "4      57.9\n",
       "       ... \n",
       "339    59.4\n",
       "340    54.3\n",
       "341    54.6\n",
       "342    57.0\n",
       "343    56.1\n",
       "Name: bill_depth_mm, Length: 344, dtype: float64"
      ]
     },
     "execution_count": 15,
     "metadata": {},
     "output_type": "execute_result"
    }
   ],
   "source": [
    "triple_bill_depth_mm = df['bill_depth_mm'] * 3\n",
    "triple_bill_depth_mm"
   ]
  },
  {
   "cell_type": "markdown",
   "id": "4abe47e5-9e1e-46a3-816b-74bc89f3d375",
   "metadata": {},
   "source": [
    "##### Raise the bill_length_mm series to the power of 3\n",
    "\n",
    "Create a new series called `bill_length_mm_cubed` by raising the `bill_length_mm` series to the power of 3."
   ]
  },
  {
   "cell_type": "code",
   "execution_count": 17,
   "id": "9002fa33-f871-472b-8378-4ed6623e7520",
   "metadata": {},
   "outputs": [
    {
     "data": {
      "text/plain": [
       "0       59776.471\n",
       "1       61629.875\n",
       "2       65450.827\n",
       "3             NaN\n",
       "4       49430.863\n",
       "          ...    \n",
       "339    173741.112\n",
       "340     82312.875\n",
       "341    122023.936\n",
       "342    131096.512\n",
       "343    126506.008\n",
       "Name: bill_length_mm, Length: 344, dtype: float64"
      ]
     },
     "execution_count": 17,
     "metadata": {},
     "output_type": "execute_result"
    }
   ],
   "source": [
    "bill_length_mm_cubed = df['bill_length_mm'] ** 3\n",
    "bill_length_mm_cubed"
   ]
  },
  {
   "cell_type": "markdown",
   "id": "cb4a2ff2-636e-487c-8466-2e4cfeac0d17",
   "metadata": {},
   "source": [
    "##### Concatenate island and species series, separated by an underscore (_)\n",
    "Create a new series called `island_and_species` by concatenating `island` and `species`, separated by `_`."
   ]
  },
  {
   "cell_type": "code",
   "execution_count": 19,
   "id": "02d4ccb3-250e-48b6-a589-6b866167ee85",
   "metadata": {},
   "outputs": [
    {
     "data": {
      "text/plain": [
       "0      Torgersen_Adelie\n",
       "1      Torgersen_Adelie\n",
       "2      Torgersen_Adelie\n",
       "3      Torgersen_Adelie\n",
       "4      Torgersen_Adelie\n",
       "             ...       \n",
       "339     Dream_Chinstrap\n",
       "340     Dream_Chinstrap\n",
       "341     Dream_Chinstrap\n",
       "342     Dream_Chinstrap\n",
       "343     Dream_Chinstrap\n",
       "Length: 344, dtype: object"
      ]
     },
     "execution_count": 19,
     "metadata": {},
     "output_type": "execute_result"
    }
   ],
   "source": [
    "island_and_species = df['island'] + '_' + df['species']\n",
    "island_and_species"
   ]
  },
  {
   "cell_type": "markdown",
   "id": "43040ed8-4b13-4e22-9306-770c6714713e",
   "metadata": {},
   "source": [
    "##### Compute the ratio of bill length to bill depth\n",
    "Create a new series called `bill_length_to_depth_ratio` by dividing `bill_length_mm` by `bill_depth_mm`."
   ]
  },
  {
   "cell_type": "code",
   "execution_count": 22,
   "id": "60179ece-2e74-4a2c-996f-fd4669debe09",
   "metadata": {},
   "outputs": [
    {
     "data": {
      "text/plain": [
       "0      2.090909\n",
       "1      2.270115\n",
       "2      2.238889\n",
       "3           NaN\n",
       "4      1.901554\n",
       "         ...   \n",
       "339    2.818182\n",
       "340    2.403315\n",
       "341    2.725275\n",
       "342    2.673684\n",
       "343    2.684492\n",
       "Length: 344, dtype: float64"
      ]
     },
     "execution_count": 22,
     "metadata": {},
     "output_type": "execute_result"
    }
   ],
   "source": [
    "bill_length_to_depth_ratio = df['bill_length_mm'] / df['bill_depth_mm']\n",
    "bill_length_to_depth_ratio"
   ]
  },
  {
   "cell_type": "markdown",
   "id": "c19d67a3-e0b9-4566-aa66-d82da0eb1e29",
   "metadata": {},
   "source": [
    "##### Sort bill_depth_mm in ascending order\n",
    "Create a new series called `bill_depth_mm_sorted` by sorting `bill_depth_mm` in ascending order."
   ]
  },
  {
   "cell_type": "code",
   "execution_count": 23,
   "id": "981e5a2c-5bc5-4673-97b9-089aaa421f20",
   "metadata": {},
   "outputs": [
    {
     "data": {
      "text/plain": [
       "176    13.1\n",
       "152    13.2\n",
       "200    13.3\n",
       "160    13.4\n",
       "157    13.5\n",
       "       ... \n",
       "49     21.2\n",
       "13     21.2\n",
       "19     21.5\n",
       "3       NaN\n",
       "271     NaN\n",
       "Name: bill_depth_mm, Length: 344, dtype: float64"
      ]
     },
     "execution_count": 23,
     "metadata": {},
     "output_type": "execute_result"
    }
   ],
   "source": [
    "bill_depth_mm_sorted = df['bill_depth_mm'].sort_values()\n",
    "bill_depth_mm_sorted"
   ]
  },
  {
   "cell_type": "markdown",
   "id": "3c68e3d7-15eb-4d0c-83e3-b43790ab92b0",
   "metadata": {},
   "source": [
    "##### Perform element-wise multiplication of flipper_length_mm and bill_length_mm\n",
    "\n",
    "Multiply `flipper_length_mm` and `bill_length_mm` together and assign the result to a new variable called `flipper_times_bill_length`."
   ]
  },
  {
   "cell_type": "code",
   "execution_count": 24,
   "id": "6def3b1f-c454-49f8-869d-b954f85f1df6",
   "metadata": {},
   "outputs": [
    {
     "data": {
      "text/plain": [
       "0       7077.1\n",
       "1       7347.0\n",
       "2       7858.5\n",
       "3          NaN\n",
       "4       7083.1\n",
       "        ...   \n",
       "339    11550.6\n",
       "340     8787.0\n",
       "341     9572.8\n",
       "342    10668.0\n",
       "343     9939.6\n",
       "Length: 344, dtype: float64"
      ]
     },
     "execution_count": 24,
     "metadata": {},
     "output_type": "execute_result"
    }
   ],
   "source": [
    "flipper_times_bill_length = df['flipper_length_mm'] * df['bill_length_mm']\n",
    "flipper_times_bill_length"
   ]
  },
  {
   "cell_type": "markdown",
   "id": "b04448b6-f577-4c97-98f9-0fdd8e8d5a56",
   "metadata": {},
   "source": [
    "##### Find the species with the highest average body mass\n",
    "\n",
    "Group by `species` and compute the `average body_mass_g`, then identify the species with the highest value."
   ]
  },
  {
   "cell_type": "code",
   "execution_count": 55,
   "id": "dc7d4f5f-c7fd-45aa-9512-de2d614f8093",
   "metadata": {},
   "outputs": [
    {
     "data": {
      "text/plain": [
       "species\n",
       "Gentoo    5076.01626\n",
       "Name: body_mass_g, dtype: float64"
      ]
     },
     "execution_count": 55,
     "metadata": {},
     "output_type": "execute_result"
    }
   ],
   "source": [
    "df.groupby('species')['body_mass_g'].mean().nlargest(1)"
   ]
  },
  {
   "cell_type": "markdown",
   "id": "afd5d234-ecda-48fa-8aa2-722b7981c3ae",
   "metadata": {},
   "source": [
    "##### Compute the range (max-min) of bill length for each species\n",
    "Group by `species` and compute the range of `bill_length_mm`."
   ]
  },
  {
   "cell_type": "code",
   "execution_count": 57,
   "id": "ae5ea50e-2688-4766-b19f-fcb3673301d7",
   "metadata": {},
   "outputs": [
    {
     "data": {
      "text/plain": [
       "species\n",
       "Adelie       13.9\n",
       "Chinstrap    17.1\n",
       "Gentoo       18.7\n",
       "Name: bill_length_mm, dtype: float64"
      ]
     },
     "execution_count": 57,
     "metadata": {},
     "output_type": "execute_result"
    }
   ],
   "source": [
    "df.groupby('species')['bill_length_mm'].agg(lambda x: x.max() - x.min())"
   ]
  },
  {
   "cell_type": "markdown",
   "id": "19930d58-3d40-4f87-9f3c-aad59c70644e",
   "metadata": {},
   "source": [
    "##### Create a new column categorizing flipper length into three bins: Short, Medium, Long\n",
    "Use quantiles to define the bins and create a new column called `flipper_length_category`."
   ]
  },
  {
   "cell_type": "code",
   "execution_count": 63,
   "id": "7e895b96-c115-4dcd-adfb-5b027665e6c5",
   "metadata": {},
   "outputs": [
    {
     "data": {
      "text/plain": [
       "0       Short\n",
       "1       Short\n",
       "2      Medium\n",
       "3         NaN\n",
       "4      Medium\n",
       "        ...  \n",
       "339    Medium\n",
       "340    Medium\n",
       "341    Medium\n",
       "342      Long\n",
       "343    Medium\n",
       "Name: flipper_length_mm, Length: 344, dtype: category\n",
       "Categories (3, object): ['Short' < 'Medium' < 'Long']"
      ]
     },
     "execution_count": 63,
     "metadata": {},
     "output_type": "execute_result"
    }
   ],
   "source": [
    "flipper_length_category = pd.qcut(df['flipper_length_mm'],q=3, labels = ['Short','Medium','Long'])\n",
    "flipper_length_category"
   ]
  },
  {
   "cell_type": "markdown",
   "id": "8027b9d5-2ce9-440e-9edd-561af04c45ef",
   "metadata": {},
   "source": [
    "##### Find the maximum flipper length for each gender\n",
    "\n",
    "Group by `sex` and find the maximum `flipper_length_mm`."
   ]
  },
  {
   "cell_type": "code",
   "execution_count": 68,
   "id": "0a1e9fe1-692e-4f8b-98e4-15834db7cd4a",
   "metadata": {},
   "outputs": [
    {
     "data": {
      "text/plain": [
       "sex\n",
       "female    222.0\n",
       "male      231.0\n",
       "Name: flipper_length_mm, dtype: float64"
      ]
     },
     "execution_count": 68,
     "metadata": {},
     "output_type": "execute_result"
    }
   ],
   "source": [
    "df.groupby('sex')['flipper_length_mm'].max()"
   ]
  },
  {
   "cell_type": "markdown",
   "id": "0763d664-7608-4ae8-810c-0dc71be300ac",
   "metadata": {},
   "source": [
    "##### Determine the most common species in the dataset\n",
    "\n",
    "Count the occurrences of each `species` and find the most common one."
   ]
  },
  {
   "cell_type": "code",
   "execution_count": 75,
   "id": "7e2af68d-8d19-4cf5-ab0a-bbdd7a5e43a3",
   "metadata": {},
   "outputs": [
    {
     "data": {
      "text/plain": [
       "species\n",
       "Adelie    152\n",
       "Name: count, dtype: int64"
      ]
     },
     "execution_count": 75,
     "metadata": {},
     "output_type": "execute_result"
    }
   ],
   "source": [
    "df['species'].value_counts().nlargest(1)"
   ]
  }
 ],
 "metadata": {
  "kernelspec": {
   "display_name": "Python 3 (ipykernel)",
   "language": "python",
   "name": "python3"
  },
  "language_info": {
   "codemirror_mode": {
    "name": "ipython",
    "version": 3
   },
   "file_extension": ".py",
   "mimetype": "text/x-python",
   "name": "python",
   "nbconvert_exporter": "python",
   "pygments_lexer": "ipython3",
   "version": "3.12.1"
  }
 },
 "nbformat": 4,
 "nbformat_minor": 5
}
